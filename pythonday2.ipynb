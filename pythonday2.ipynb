{
  "nbformat": 4,
  "nbformat_minor": 0,
  "metadata": {
    "colab": {
      "name": "pythonday2",
      "provenance": [],
      "collapsed_sections": [],
      "authorship_tag": "ABX9TyPgU6vaP5vBKdfPap/wW4Gv",
      "include_colab_link": true
    },
    "kernelspec": {
      "name": "python3",
      "display_name": "Python 3"
    }
  },
  "cells": [
    {
      "cell_type": "markdown",
      "metadata": {
        "id": "view-in-github",
        "colab_type": "text"
      },
      "source": [
        "<a href=\"https://colab.research.google.com/github/MANU7686/python-letsupgrade-assignments/blob/master/pythonday2.ipynb\" target=\"_parent\"><img src=\"https://colab.research.google.com/assets/colab-badge.svg\" alt=\"Open In Colab\"/></a>"
      ]
    },
    {
      "cell_type": "markdown",
      "metadata": {
        "id": "CgiSYQLlel7F",
        "colab_type": "text"
      },
      "source": [
        "#**DAY 2: BASIC SYNTAX**"
      ]
    },
    {
      "cell_type": "markdown",
      "metadata": {
        "id": "o0X7snuGe44h",
        "colab_type": "text"
      },
      "source": [
        "**1) BACK SLASH : showing continuation.**\n",
        "\n",
        "\n",
        "> \n",
        "\n"
      ]
    },
    {
      "cell_type": "code",
      "metadata": {
        "id": "8Y9URe8adGL3",
        "colab_type": "code",
        "colab": {
          "base_uri": "https://localhost:8080/",
          "height": 34
        },
        "outputId": "5b041485-0f61-4eec-8b06-72c641f7a57a"
      },
      "source": [
        "print(\"hello python\")"
      ],
      "execution_count": null,
      "outputs": [
        {
          "output_type": "stream",
          "text": [
            "hello python\n"
          ],
          "name": "stdout"
        }
      ]
    },
    {
      "cell_type": "code",
      "metadata": {
        "id": "6V-EPYSldbn_",
        "colab_type": "code",
        "colab": {
          "base_uri": "https://localhost:8080/",
          "height": 129
        },
        "outputId": "60e70dde-902d-4bf6-abd8-9b02dfb3210c"
      },
      "source": [
        "print(\"hello\n",
        "python\")"
      ],
      "execution_count": null,
      "outputs": [
        {
          "output_type": "error",
          "ename": "SyntaxError",
          "evalue": "ignored",
          "traceback": [
            "\u001b[0;36m  File \u001b[0;32m\"<ipython-input-2-0ba277b85db7>\"\u001b[0;36m, line \u001b[0;32m1\u001b[0m\n\u001b[0;31m    print(\"hello\u001b[0m\n\u001b[0m                ^\u001b[0m\n\u001b[0;31mSyntaxError\u001b[0m\u001b[0;31m:\u001b[0m EOL while scanning string literal\n"
          ]
        }
      ]
    },
    {
      "cell_type": "markdown",
      "metadata": {
        "id": "pvOSqReIdlQ_",
        "colab_type": "text"
      },
      "source": [
        "here we need to add a back slash to show continuation as below\n"
      ]
    },
    {
      "cell_type": "code",
      "metadata": {
        "id": "nFSZlyQZeAYE",
        "colab_type": "code",
        "colab": {
          "base_uri": "https://localhost:8080/",
          "height": 34
        },
        "outputId": "e4704b8e-f9d6-4e79-bc4c-be0d0c57100f"
      },
      "source": [
        "print(\"hello\\\n",
        "python\")"
      ],
      "execution_count": null,
      "outputs": [
        {
          "output_type": "stream",
          "text": [
            "hellopython\n"
          ],
          "name": "stdout"
        }
      ]
    },
    {
      "cell_type": "markdown",
      "metadata": {
        "id": "og3J3et4eLCX",
        "colab_type": "text"
      },
      "source": [
        "for formatted output like tab **\\t**, new line **\\n**, as follows"
      ]
    },
    {
      "cell_type": "code",
      "metadata": {
        "id": "ZkrfSeIMeWv4",
        "colab_type": "code",
        "colab": {
          "base_uri": "https://localhost:8080/",
          "height": 68
        },
        "outputId": "5b795540-3a9b-4d73-f3d0-a9e7aad8e2e7"
      },
      "source": [
        "print(\"hello\\t python\")\n",
        "print(\"hello\\n python\")"
      ],
      "execution_count": null,
      "outputs": [
        {
          "output_type": "stream",
          "text": [
            "hello\t python\n",
            "hello\n",
            " python\n"
          ],
          "name": "stdout"
        }
      ]
    },
    {
      "cell_type": "markdown",
      "metadata": {
        "id": "F9h0M-PLft5H",
        "colab_type": "text"
      },
      "source": [
        "**2) TRIPLE QUOTE: text art,doc string,sql statements**\n"
      ]
    },
    {
      "cell_type": "code",
      "metadata": {
        "id": "bH6X6Y4FgiNu",
        "colab_type": "code",
        "colab": {
          "base_uri": "https://localhost:8080/",
          "height": 102
        },
        "outputId": "40dfe3c1-0d1b-45d2-efda-ea4ffd5e4eff"
      },
      "source": [
        "print(\"\"\"╔══╗\n",
        "╚╗╔╝\n",
        "╔╝(¯`v´¯)\n",
        "╚══`.¸.[Python]\n",
        "\"\"\")"
      ],
      "execution_count": null,
      "outputs": [
        {
          "output_type": "stream",
          "text": [
            "╔══╗\n",
            "╚╗╔╝\n",
            "╔╝(¯`v´¯)\n",
            "╚══`.¸.[Python]\n",
            "\n"
          ],
          "name": "stdout"
        }
      ]
    },
    {
      "cell_type": "markdown",
      "metadata": {
        "id": "_KmmhYsd7Equ",
        "colab_type": "text"
      },
      "source": [
        "3)**STRING INSIDE QUOTE:**\n"
      ]
    },
    {
      "cell_type": "markdown",
      "metadata": {
        "id": "L0DH11qz7v6p",
        "colab_type": "text"
      },
      "source": [
        "with single quotes,"
      ]
    },
    {
      "cell_type": "code",
      "metadata": {
        "id": "TlRoARam7pIW",
        "colab_type": "code",
        "colab": {
          "base_uri": "https://localhost:8080/",
          "height": 34
        },
        "outputId": "b089870a-533b-49f2-d783-0bcfc640e0d8"
      },
      "source": [
        "print('python world')"
      ],
      "execution_count": null,
      "outputs": [
        {
          "output_type": "stream",
          "text": [
            "python world\n"
          ],
          "name": "stdout"
        }
      ]
    },
    {
      "cell_type": "markdown",
      "metadata": {
        "id": "QXQhiMtx70y0",
        "colab_type": "text"
      },
      "source": [
        "with double quotes,\n"
      ]
    },
    {
      "cell_type": "code",
      "metadata": {
        "id": "V5iHZ-Cl70Q-",
        "colab_type": "code",
        "colab": {
          "base_uri": "https://localhost:8080/",
          "height": 34
        },
        "outputId": "4e2c423f-dc46-426c-adec-8dbe3132c777"
      },
      "source": [
        "print(\"python world\")"
      ],
      "execution_count": null,
      "outputs": [
        {
          "output_type": "stream",
          "text": [
            "python world\n"
          ],
          "name": "stdout"
        }
      ]
    },
    {
      "cell_type": "code",
      "metadata": {
        "id": "gJRyq9rk8Cbo",
        "colab_type": "code",
        "colab": {}
      },
      "source": [
        "the trouble maker,\n"
      ],
      "execution_count": null,
      "outputs": []
    },
    {
      "cell_type": "code",
      "metadata": {
        "id": "24ZmkgA28Hro",
        "colab_type": "code",
        "colab": {
          "base_uri": "https://localhost:8080/",
          "height": 129
        },
        "outputId": "e014e81d-b2f0-4f2c-8c2e-5b07d711f2b6"
      },
      "source": [
        "print('python's world')"
      ],
      "execution_count": null,
      "outputs": [
        {
          "output_type": "error",
          "ename": "SyntaxError",
          "evalue": "ignored",
          "traceback": [
            "\u001b[0;36m  File \u001b[0;32m\"<ipython-input-3-3f3d487a621e>\"\u001b[0;36m, line \u001b[0;32m1\u001b[0m\n\u001b[0;31m    print('python's world')\u001b[0m\n\u001b[0m                  ^\u001b[0m\n\u001b[0;31mSyntaxError\u001b[0m\u001b[0;31m:\u001b[0m invalid syntax\n"
          ]
        }
      ]
    },
    {
      "cell_type": "markdown",
      "metadata": {
        "id": "1QMeFWIe8St7",
        "colab_type": "text"
      },
      "source": [
        "in above example it treats the apostrophe in english as single quote in python,\n",
        "to resolve this add a backslash to show that it belongs to english and not python as follows,\n"
      ]
    },
    {
      "cell_type": "code",
      "metadata": {
        "id": "p0KpWzL68oLq",
        "colab_type": "code",
        "colab": {
          "base_uri": "https://localhost:8080/",
          "height": 34
        },
        "outputId": "f5f42716-69a7-468e-f50f-386ff3882460"
      },
      "source": [
        "print('python\\'s world')"
      ],
      "execution_count": null,
      "outputs": [
        {
          "output_type": "stream",
          "text": [
            "python's world\n"
          ],
          "name": "stdout"
        }
      ]
    },
    {
      "cell_type": "markdown",
      "metadata": {
        "id": "UcwUmmV186Bt",
        "colab_type": "text"
      },
      "source": [
        "**good to go  :)  ...!**"
      ]
    },
    {
      "cell_type": "markdown",
      "metadata": {
        "id": "7ysoVT8m9dng",
        "colab_type": "text"
      },
      "source": [
        "# **MULTIPLE STATEMENTS** \n",
        "\n",
        "1.   List item\n",
        "2.   List item\n",
        "\n",
        "\n"
      ]
    },
    {
      "cell_type": "code",
      "metadata": {
        "id": "VaKPOL6rB0fZ",
        "colab_type": "code",
        "colab": {
          "base_uri": "https://localhost:8080/",
          "height": 34
        },
        "outputId": "e546479c-3b3f-488c-c0bf-101c55713a22"
      },
      "source": [
        "name=\"mansi\"\n",
        "marks=89.8765\n",
        "age=21\n",
        "print(\"name of person is %s marks are %f age is %d\"%(name,marks,age))"
      ],
      "execution_count": 10,
      "outputs": [
        {
          "output_type": "stream",
          "text": [
            "name of person is mansi marks are 89.876500 age is 21\n"
          ],
          "name": "stdout"
        }
      ]
    },
    {
      "cell_type": "markdown",
      "metadata": {
        "id": "0EqC7D7gCcRE",
        "colab_type": "text"
      },
      "source": [
        "to give spaces or tabs you could use following form, for float the number after . depicts the number of digits after decimal point\n",
        "\n",
        "\n",
        "\n"
      ]
    },
    {
      "cell_type": "code",
      "metadata": {
        "id": "5dH9_2TrCl1y",
        "colab_type": "code",
        "colab": {
          "base_uri": "https://localhost:8080/",
          "height": 34
        },
        "outputId": "28b9e414-cef9-47e6-bed7-0b524418c5cf"
      },
      "source": [
        "name=\"mansi\"\n",
        "marks=89.8765\n",
        "age=21\n",
        "print(\"name of person is %8s marks are %8.2f age is %8d\"%(name,marks,age))"
      ],
      "execution_count": 13,
      "outputs": [
        {
          "output_type": "stream",
          "text": [
            "name of person is    mansi marks are    89.88 age is       21\n"
          ],
          "name": "stdout"
        }
      ]
    },
    {
      "cell_type": "markdown",
      "metadata": {
        "id": "ZyLoNyELDSD7",
        "colab_type": "text"
      },
      "source": [
        "for python version 3.4 onwards you can use following form.."
      ]
    },
    {
      "cell_type": "code",
      "metadata": {
        "id": "hmYd3sGpDbf6",
        "colab_type": "code",
        "colab": {
          "base_uri": "https://localhost:8080/",
          "height": 34
        },
        "outputId": "3cbd423c-1478-4357-a2ca-f4a05dcd96ec"
      },
      "source": [
        "name=\"mansi\"\n",
        "marks=89.8765\n",
        "age=21\n",
        "print(f\" the name of person is {name} the marks are {marks} and the age is{age}\")"
      ],
      "execution_count": 14,
      "outputs": [
        {
          "output_type": "stream",
          "text": [
            " the name of person is mansi the marks are 89.8765 and the age is21\n"
          ],
          "name": "stdout"
        }
      ]
    },
    {
      "cell_type": "markdown",
      "metadata": {
        "id": "SyswhMDYD3D4",
        "colab_type": "text"
      },
      "source": [
        "#**VARIABLES AND ASSIGNMENT STATEMENTS IN PYTHON**"
      ]
    },
    {
      "cell_type": "markdown",
      "metadata": {
        "id": "7-v4jVo1Ej0L",
        "colab_type": "text"
      },
      "source": [
        "PYTHON VARIABLE: \n",
        "\n",
        "\n",
        "*   Linking Data to name.\n",
        "*   according to datatype the interpreter reserves memory space.\n",
        "*   variable refers to the memory location that contains data.\n",
        "\n",
        "\n",
        "\n",
        "\n"
      ]
    },
    {
      "cell_type": "code",
      "metadata": {
        "id": "Vrmt2oI8EeQ9",
        "colab_type": "code",
        "colab": {}
      },
      "source": [
        "name=\"mansi\"\n",
        "age=21\n"
      ],
      "execution_count": null,
      "outputs": []
    },
    {
      "cell_type": "markdown",
      "metadata": {
        "id": "eaxnGTpGFfz3",
        "colab_type": "text"
      },
      "source": [
        "##**Assignment statement**\n"
      ]
    },
    {
      "cell_type": "code",
      "metadata": {
        "id": "FrSR-j6AF_HK",
        "colab_type": "code",
        "colab": {
          "base_uri": "https://localhost:8080/",
          "height": 34
        },
        "outputId": "653e8914-fedd-44e5-99ba-caf3b9f89d31"
      },
      "source": [
        "x=y=10\n",
        "id(x)\n"
      ],
      "execution_count": 16,
      "outputs": [
        {
          "output_type": "execute_result",
          "data": {
            "text/plain": [
              "10914784"
            ]
          },
          "metadata": {
            "tags": []
          },
          "execution_count": 16
        }
      ]
    },
    {
      "cell_type": "code",
      "metadata": {
        "id": "1sWRHFEhGG8T",
        "colab_type": "code",
        "colab": {
          "base_uri": "https://localhost:8080/",
          "height": 34
        },
        "outputId": "dfadea75-bb4d-4512-b6c5-cb1731219c98"
      },
      "source": [
        "y=10\n",
        "id(y)"
      ],
      "execution_count": 17,
      "outputs": [
        {
          "output_type": "execute_result",
          "data": {
            "text/plain": [
              "10914784"
            ]
          },
          "metadata": {
            "tags": []
          },
          "execution_count": 17
        }
      ]
    },
    {
      "cell_type": "markdown",
      "metadata": {
        "id": "K-EmsaQlGONS",
        "colab_type": "text"
      },
      "source": [
        "here 10914784 is the base address of both x and y when we delete x the link of x to the number gets deleted but as y is linked to 10 it wont get erased as soon as del y is done the number vanishes from memory and address is null.\n",
        "this happens onlu in range of (-5 to 256) lets try out of this range."
      ]
    },
    {
      "cell_type": "code",
      "metadata": {
        "id": "NVZww-NlHEvQ",
        "colab_type": "code",
        "colab": {
          "base_uri": "https://localhost:8080/",
          "height": 34
        },
        "outputId": "faa5164f-3389-4511-8700-39d8a27df3f7"
      },
      "source": [
        "x=257\n",
        "id(x)"
      ],
      "execution_count": 23,
      "outputs": [
        {
          "output_type": "execute_result",
          "data": {
            "text/plain": [
              "139860367777168"
            ]
          },
          "metadata": {
            "tags": []
          },
          "execution_count": 23
        }
      ]
    },
    {
      "cell_type": "code",
      "metadata": {
        "id": "x-jzVmX8Hles",
        "colab_type": "code",
        "colab": {
          "base_uri": "https://localhost:8080/",
          "height": 34
        },
        "outputId": "14d1330c-9563-4a03-e702-342e482cfb7d"
      },
      "source": [
        "y=257\n",
        "id(y)"
      ],
      "execution_count": 24,
      "outputs": [
        {
          "output_type": "execute_result",
          "data": {
            "text/plain": [
              "139860367776912"
            ]
          },
          "metadata": {
            "tags": []
          },
          "execution_count": 24
        }
      ]
    },
    {
      "cell_type": "code",
      "metadata": {
        "id": "-tmXmhdIHwUi",
        "colab_type": "code",
        "colab": {
          "base_uri": "https://localhost:8080/",
          "height": 34
        },
        "outputId": "a51ece44-37f6-4ec2-98f7-120be11e380a"
      },
      "source": [
        "x is y"
      ],
      "execution_count": 25,
      "outputs": [
        {
          "output_type": "execute_result",
          "data": {
            "text/plain": [
              "False"
            ]
          },
          "metadata": {
            "tags": []
          },
          "execution_count": 25
        }
      ]
    },
    {
      "cell_type": "markdown",
      "metadata": {
        "id": "kd9HZXp_IPxy",
        "colab_type": "text"
      },
      "source": [
        "#**Operators**"
      ]
    },
    {
      "cell_type": "markdown",
      "metadata": {
        "id": "OiNiUfABIrOn",
        "colab_type": "text"
      },
      "source": [
        "##**Arithmetic**\n",
        "\n",
        "###Exponential operator **\n",
        "###multiplication       *\n",
        "###division             /\n",
        "###modulus              %\n",
        "###addition             +\n",
        "###subtraction          -\n",
        "###floor division       //\n",
        "\n"
      ]
    },
    {
      "cell_type": "code",
      "metadata": {
        "id": "iR27i5ktJiFj",
        "colab_type": "code",
        "colab": {
          "base_uri": "https://localhost:8080/",
          "height": 34
        },
        "outputId": "fc6029bf-8b7b-485b-c77e-cdbe5fbfeb84"
      },
      "source": [
        "a=10\n",
        "b=2\n",
        "print(a**b)"
      ],
      "execution_count": 29,
      "outputs": [
        {
          "output_type": "stream",
          "text": [
            "100\n"
          ],
          "name": "stdout"
        }
      ]
    },
    {
      "cell_type": "markdown",
      "metadata": {
        "id": "_SuS1a-cKxpX",
        "colab_type": "text"
      },
      "source": [
        "hence ** is symbol of power in python."
      ]
    },
    {
      "cell_type": "markdown",
      "metadata": {
        "id": "BIvWMXhEK_UF",
        "colab_type": "text"
      },
      "source": [
        "now let us see the differnce between // and / operator, \n",
        "###note that:\n",
        "####in python 2 int/int=int\n",
        "**ie.10/29=0**\n",
        "####in python 3 int/int=float\n",
        "**ie.10/29=0.344827**\n"
      ]
    },
    {
      "cell_type": "code",
      "metadata": {
        "id": "k52KPyd-MNMR",
        "colab_type": "code",
        "colab": {
          "base_uri": "https://localhost:8080/",
          "height": 34
        },
        "outputId": "8c6e7808-c4b5-4c8d-e7c0-159c68290caa"
      },
      "source": [
        "a=10\n",
        "b=29\n",
        "print(a/b)"
      ],
      "execution_count": 30,
      "outputs": [
        {
          "output_type": "stream",
          "text": [
            "0.3448275862068966\n"
          ],
          "name": "stdout"
        }
      ]
    },
    {
      "cell_type": "markdown",
      "metadata": {
        "id": "Gfj3_ne1MdSC",
        "colab_type": "text"
      },
      "source": [
        "####comparison operator,assignment and bitwise same  as that of c.\n"
      ]
    },
    {
      "cell_type": "markdown",
      "metadata": {
        "id": "_-hsJdKoMpzw",
        "colab_type": "text"
      },
      "source": [
        "#**Interview Question**"
      ]
    },
    {
      "cell_type": "markdown",
      "metadata": {
        "id": "OOhd6fkXNKWi",
        "colab_type": "text"
      },
      "source": [
        "**Code 1**"
      ]
    },
    {
      "cell_type": "code",
      "metadata": {
        "id": "OeogoJRJMyyh",
        "colab_type": "code",
        "colab": {
          "base_uri": "https://localhost:8080/",
          "height": 163
        },
        "outputId": "1dca4565-b74a-414b-9da8-7610a86244e9"
      },
      "source": [
        "9<10 and 20>m"
      ],
      "execution_count": 31,
      "outputs": [
        {
          "output_type": "error",
          "ename": "NameError",
          "evalue": "ignored",
          "traceback": [
            "\u001b[0;31m---------------------------------------------------------------------------\u001b[0m",
            "\u001b[0;31mNameError\u001b[0m                                 Traceback (most recent call last)",
            "\u001b[0;32m<ipython-input-31-976fa3829219>\u001b[0m in \u001b[0;36m<module>\u001b[0;34m()\u001b[0m\n\u001b[0;32m----> 1\u001b[0;31m \u001b[0;36m9\u001b[0m\u001b[0;34m<\u001b[0m\u001b[0;36m10\u001b[0m \u001b[0;32mand\u001b[0m \u001b[0;36m20\u001b[0m\u001b[0;34m>\u001b[0m\u001b[0mm\u001b[0m\u001b[0;34m\u001b[0m\u001b[0;34m\u001b[0m\u001b[0m\n\u001b[0m",
            "\u001b[0;31mNameError\u001b[0m: name 'm' is not defined"
          ]
        }
      ]
    },
    {
      "cell_type": "markdown",
      "metadata": {
        "id": "MplGG9BFNM9m",
        "colab_type": "text"
      },
      "source": [
        "**Code 2**"
      ]
    },
    {
      "cell_type": "code",
      "metadata": {
        "id": "7wWTlRVMNPUB",
        "colab_type": "code",
        "colab": {
          "base_uri": "https://localhost:8080/",
          "height": 34
        },
        "outputId": "427bb48e-0e72-4bf1-f4e9-2d1106260bfc"
      },
      "source": [
        "9>10 and 20>m"
      ],
      "execution_count": 32,
      "outputs": [
        {
          "output_type": "execute_result",
          "data": {
            "text/plain": [
              "False"
            ]
          },
          "metadata": {
            "tags": []
          },
          "execution_count": 32
        }
      ]
    },
    {
      "cell_type": "markdown",
      "metadata": {
        "id": "9S6FYxXWNXsK",
        "colab_type": "text"
      },
      "source": [
        "###**Here in code 1 it gives error but in code 2 no error why...?**\n",
        "**Ans**:\n",
        "in code 1: the first equation is true so control moves to 2nd equation hence gives errror but\n",
        "in code 2: as the first equation itself it false it doesnt check for second equation..;)"
      ]
    }
  ]
}